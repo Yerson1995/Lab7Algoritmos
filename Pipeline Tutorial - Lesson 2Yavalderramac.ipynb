{
 "cells": [
  {
   "cell_type": "markdown",
   "metadata": {},
   "source": [
    "##Creating a Pipeline\n",
    "In this lesson, we will take a look at creating an empty pipeline. First, let's import the Pipeline class:"
   ]
  },
  {
   "cell_type": "code",
   "execution_count": 1,
   "metadata": {},
   "outputs": [],
   "source": [
    "from quantopian.pipeline import Pipeline"
   ]
  },
  {
   "cell_type": "markdown",
   "metadata": {},
   "source": [
    "In a new cell, let's define a function to create our pipeline. Wrapping our pipeline creation in a function sets up a structure for more complex pipelines that we will see later on. For now, this function simply returns an empty pipeline:"
   ]
  },
  {
   "cell_type": "code",
   "execution_count": 2,
   "metadata": {},
   "outputs": [],
   "source": [
    "def make_pipeline():\n",
    "    return Pipeline()"
   ]
  },
  {
   "cell_type": "markdown",
   "metadata": {},
   "source": [
    "In a new cell, let's instantiate our pipeline by running `make_pipeline()`:"
   ]
  },
  {
   "cell_type": "code",
   "execution_count": 3,
   "metadata": {},
   "outputs": [],
   "source": [
    "my_pipe = make_pipeline()"
   ]
  },
  {
   "cell_type": "markdown",
   "metadata": {},
   "source": [
    "###Running a Pipeline\n",
    "\n",
    "Now that we have a reference to an empty Pipeline, `my_pipe` let's run it to see what it looks like. Before running our pipeline, we first need to import `run_pipeline`, a research-only function that allows us to run a pipeline over a specified time period."
   ]
  },
  {
   "cell_type": "code",
   "execution_count": 4,
   "metadata": {},
   "outputs": [],
   "source": [
    "from quantopian.research import run_pipeline"
   ]
  },
  {
   "cell_type": "markdown",
   "metadata": {},
   "source": [
    "Let's run our pipeline for one day (2018-05-05) with `run_pipeline` and display it. Note that the 2nd and 3rd arguments are the start and end dates of the simulation, respectively."
   ]
  },
  {
   "cell_type": "code",
   "execution_count": 5,
   "metadata": {},
   "outputs": [
    {
     "data": {
      "application/vnd.jupyter.widget-view+json": {
       "model_id": "",
       "version_major": 2,
       "version_minor": 0
      },
      "text/plain": []
     },
     "metadata": {},
     "output_type": "display_data"
    },
    {
     "data": {
      "text/html": [
       "<b>Pipeline Execution Time:</b> 0.88 Seconds"
      ],
      "text/plain": [
       "<IPython.core.display.HTML object>"
      ]
     },
     "metadata": {},
     "output_type": "display_data"
    }
   ],
   "source": [
    "result = run_pipeline(my_pipe, '2018-05-05', '2018-05-05')"
   ]
  },
  {
   "cell_type": "markdown",
   "metadata": {},
   "source": [
    "A call to `run_pipeline` returns a [pandas DataFrame](http://pandas.pydata.org/pandas-docs/stable/generated/pandas.DataFrame.html) indexed by date and securities. Let's see what the empty pipeline looks like:"
   ]
  },
  {
   "cell_type": "code",
   "execution_count": 6,
   "metadata": {},
   "outputs": [
    {
     "data": {
      "text/html": [
       "<div>\n",
       "<table border=\"1\" class=\"dataframe\">\n",
       "  <thead>\n",
       "    <tr style=\"text-align: right;\">\n",
       "      <th></th>\n",
       "      <th></th>\n",
       "    </tr>\n",
       "  </thead>\n",
       "  <tbody>\n",
       "    <tr>\n",
       "      <th rowspan=\"61\" valign=\"top\">2018-05-07 00:00:00+00:00</th>\n",
       "      <th>Equity(2 [HWM])</th>\n",
       "    </tr>\n",
       "    <tr>\n",
       "      <th>Equity(21 [AAME])</th>\n",
       "    </tr>\n",
       "    <tr>\n",
       "      <th>Equity(24 [AAPL])</th>\n",
       "    </tr>\n",
       "    <tr>\n",
       "      <th>Equity(25 [HWM_PR])</th>\n",
       "    </tr>\n",
       "    <tr>\n",
       "      <th>Equity(31 [ABAX])</th>\n",
       "    </tr>\n",
       "    <tr>\n",
       "      <th>Equity(41 [ARCB])</th>\n",
       "    </tr>\n",
       "    <tr>\n",
       "      <th>Equity(52 [ABM])</th>\n",
       "    </tr>\n",
       "    <tr>\n",
       "      <th>Equity(53 [ABMD])</th>\n",
       "    </tr>\n",
       "    <tr>\n",
       "      <th>Equity(62 [ABT])</th>\n",
       "    </tr>\n",
       "    <tr>\n",
       "      <th>Equity(64 [GOLD])</th>\n",
       "    </tr>\n",
       "    <tr>\n",
       "      <th>Equity(66 [AB])</th>\n",
       "    </tr>\n",
       "    <tr>\n",
       "      <th>Equity(67 [ADSK])</th>\n",
       "    </tr>\n",
       "    <tr>\n",
       "      <th>Equity(70 [VBF])</th>\n",
       "    </tr>\n",
       "    <tr>\n",
       "      <th>Equity(76 [TAP])</th>\n",
       "    </tr>\n",
       "    <tr>\n",
       "      <th>Equity(84 [ACET])</th>\n",
       "    </tr>\n",
       "    <tr>\n",
       "      <th>Equity(100 [IEP])</th>\n",
       "    </tr>\n",
       "    <tr>\n",
       "      <th>Equity(106 [ACU])</th>\n",
       "    </tr>\n",
       "    <tr>\n",
       "      <th>Equity(110 [RAMP])</th>\n",
       "    </tr>\n",
       "    <tr>\n",
       "      <th>Equity(112 [ACY])</th>\n",
       "    </tr>\n",
       "    <tr>\n",
       "      <th>Equity(114 [ADBE])</th>\n",
       "    </tr>\n",
       "    <tr>\n",
       "      <th>Equity(117 [AEY])</th>\n",
       "    </tr>\n",
       "    <tr>\n",
       "      <th>Equity(122 [ADI])</th>\n",
       "    </tr>\n",
       "    <tr>\n",
       "      <th>Equity(128 [ADM])</th>\n",
       "    </tr>\n",
       "    <tr>\n",
       "      <th>Equity(149 [ADX])</th>\n",
       "    </tr>\n",
       "    <tr>\n",
       "      <th>Equity(153 [AE])</th>\n",
       "    </tr>\n",
       "    <tr>\n",
       "      <th>Equity(154 [AEM])</th>\n",
       "    </tr>\n",
       "    <tr>\n",
       "      <th>Equity(157 [AEG])</th>\n",
       "    </tr>\n",
       "    <tr>\n",
       "      <th>Equity(161 [AEP])</th>\n",
       "    </tr>\n",
       "    <tr>\n",
       "      <th>Equity(166 [AES])</th>\n",
       "    </tr>\n",
       "    <tr>\n",
       "      <th>Equity(168 [AET])</th>\n",
       "    </tr>\n",
       "    <tr>\n",
       "      <th>...</th>\n",
       "    </tr>\n",
       "    <tr>\n",
       "      <th>Equity(51954 [SDI])</th>\n",
       "    </tr>\n",
       "    <tr>\n",
       "      <th>Equity(51955 [CDAY])</th>\n",
       "    </tr>\n",
       "    <tr>\n",
       "      <th>Equity(51957 [LASR])</th>\n",
       "    </tr>\n",
       "    <tr>\n",
       "      <th>Equity(51959 [ENBA])</th>\n",
       "    </tr>\n",
       "    <tr>\n",
       "      <th>Equity(51960 [DOV_WI])</th>\n",
       "    </tr>\n",
       "    <tr>\n",
       "      <th>Equity(51961 [SMAR])</th>\n",
       "    </tr>\n",
       "    <tr>\n",
       "      <th>Equity(51962 [GSHD])</th>\n",
       "    </tr>\n",
       "    <tr>\n",
       "      <th>Equity(51963 [ELOX])</th>\n",
       "    </tr>\n",
       "    <tr>\n",
       "      <th>Equity(51964 [SJIU])</th>\n",
       "    </tr>\n",
       "    <tr>\n",
       "      <th>Equity(51966 [APY])</th>\n",
       "    </tr>\n",
       "    <tr>\n",
       "      <th>Equity(51967 [EDNT])</th>\n",
       "    </tr>\n",
       "    <tr>\n",
       "      <th>Equity(51968 [FCBP])</th>\n",
       "    </tr>\n",
       "    <tr>\n",
       "      <th>Equity(51969 [ECCX])</th>\n",
       "    </tr>\n",
       "    <tr>\n",
       "      <th>Equity(51970 [BH_A])</th>\n",
       "    </tr>\n",
       "    <tr>\n",
       "      <th>Equity(51971 [PRT])</th>\n",
       "    </tr>\n",
       "    <tr>\n",
       "      <th>Equity(51973 [UBX])</th>\n",
       "    </tr>\n",
       "    <tr>\n",
       "      <th>Equity(51974 [ASLN])</th>\n",
       "    </tr>\n",
       "    <tr>\n",
       "      <th>Equity(51975 [INSP])</th>\n",
       "    </tr>\n",
       "    <tr>\n",
       "      <th>Equity(51976 [STXB])</th>\n",
       "    </tr>\n",
       "    <tr>\n",
       "      <th>Equity(51977 [ETP_PRC])</th>\n",
       "    </tr>\n",
       "    <tr>\n",
       "      <th>Equity(51979 [RCP])</th>\n",
       "    </tr>\n",
       "    <tr>\n",
       "      <th>Equity(51980 [BCML])</th>\n",
       "    </tr>\n",
       "    <tr>\n",
       "      <th>Equity(51981 [JRSH])</th>\n",
       "    </tr>\n",
       "    <tr>\n",
       "      <th>Equity(51982 [CBLK])</th>\n",
       "    </tr>\n",
       "    <tr>\n",
       "      <th>Equity(51983 [ROAD])</th>\n",
       "    </tr>\n",
       "    <tr>\n",
       "      <th>Equity(51984 [SPXB])</th>\n",
       "    </tr>\n",
       "    <tr>\n",
       "      <th>Equity(51985 [SDCI])</th>\n",
       "    </tr>\n",
       "    <tr>\n",
       "      <th>Equity(51987 [AMRX])</th>\n",
       "    </tr>\n",
       "    <tr>\n",
       "      <th>Equity(51988 [CHEK_Z])</th>\n",
       "    </tr>\n",
       "    <tr>\n",
       "      <th>Equity(51989 [PLL])</th>\n",
       "    </tr>\n",
       "  </tbody>\n",
       "</table>\n",
       "<p>8568 rows × 0 columns</p>\n",
       "</div>"
      ],
      "text/plain": [
       "Empty DataFrame\n",
       "Columns: []\n",
       "Index: [(2018-05-07 00:00:00+00:00, Equity(2 [HWM])), (2018-05-07 00:00:00+00:00, Equity(21 [AAME])), (2018-05-07 00:00:00+00:00, Equity(24 [AAPL])), (2018-05-07 00:00:00+00:00, Equity(25 [HWM_PR])), (2018-05-07 00:00:00+00:00, Equity(31 [ABAX])), (2018-05-07 00:00:00+00:00, Equity(41 [ARCB])), (2018-05-07 00:00:00+00:00, Equity(52 [ABM])), (2018-05-07 00:00:00+00:00, Equity(53 [ABMD])), (2018-05-07 00:00:00+00:00, Equity(62 [ABT])), (2018-05-07 00:00:00+00:00, Equity(64 [GOLD])), (2018-05-07 00:00:00+00:00, Equity(66 [AB])), (2018-05-07 00:00:00+00:00, Equity(67 [ADSK])), (2018-05-07 00:00:00+00:00, Equity(70 [VBF])), (2018-05-07 00:00:00+00:00, Equity(76 [TAP])), (2018-05-07 00:00:00+00:00, Equity(84 [ACET])), (2018-05-07 00:00:00+00:00, Equity(100 [IEP])), (2018-05-07 00:00:00+00:00, Equity(106 [ACU])), (2018-05-07 00:00:00+00:00, Equity(110 [RAMP])), (2018-05-07 00:00:00+00:00, Equity(112 [ACY])), (2018-05-07 00:00:00+00:00, Equity(114 [ADBE])), (2018-05-07 00:00:00+00:00, Equity(117 [AEY])), (2018-05-07 00:00:00+00:00, Equity(122 [ADI])), (2018-05-07 00:00:00+00:00, Equity(128 [ADM])), (2018-05-07 00:00:00+00:00, Equity(149 [ADX])), (2018-05-07 00:00:00+00:00, Equity(153 [AE])), (2018-05-07 00:00:00+00:00, Equity(154 [AEM])), (2018-05-07 00:00:00+00:00, Equity(157 [AEG])), (2018-05-07 00:00:00+00:00, Equity(161 [AEP])), (2018-05-07 00:00:00+00:00, Equity(166 [AES])), (2018-05-07 00:00:00+00:00, Equity(168 [AET])), (2018-05-07 00:00:00+00:00, Equity(185 [AFL])), (2018-05-07 00:00:00+00:00, Equity(192 [ATAX])), (2018-05-07 00:00:00+00:00, Equity(197 [AGCO])), (2018-05-07 00:00:00+00:00, Equity(216 [HES])), (2018-05-07 00:00:00+00:00, Equity(225 [AHPI])), (2018-05-07 00:00:00+00:00, Equity(239 [AIG])), (2018-05-07 00:00:00+00:00, Equity(247 [AIN])), (2018-05-07 00:00:00+00:00, Equity(253 [AIR])), (2018-05-07 00:00:00+00:00, Equity(266 [AJG])), (2018-05-07 00:00:00+00:00, Equity(270 [AKRX])), (2018-05-07 00:00:00+00:00, Equity(283 [ALCO])), (2018-05-07 00:00:00+00:00, Equity(289 [MATX])), (2018-05-07 00:00:00+00:00, Equity(300 [ALK])), (2018-05-07 00:00:00+00:00, Equity(301 [ALKS])), (2018-05-07 00:00:00+00:00, Equity(311 [ALOG])), (2018-05-07 00:00:00+00:00, Equity(312 [ALOT])), (2018-05-07 00:00:00+00:00, Equity(332 [ALX])), (2018-05-07 00:00:00+00:00, Equity(337 [AMAT])), (2018-05-07 00:00:00+00:00, Equity(351 [AMD])), (2018-05-07 00:00:00+00:00, Equity(353 [AME])), (2018-05-07 00:00:00+00:00, Equity(357 [TWX])), (2018-05-07 00:00:00+00:00, Equity(366 [AVD])), (2018-05-07 00:00:00+00:00, Equity(368 [AMGN])), (2018-05-07 00:00:00+00:00, Equity(371 [TVTY])), (2018-05-07 00:00:00+00:00, Equity(392 [AMS])), (2018-05-07 00:00:00+00:00, Equity(393 [AMSC])), (2018-05-07 00:00:00+00:00, Equity(397 [AMSW_A])), (2018-05-07 00:00:00+00:00, Equity(405 [AMWD])), (2018-05-07 00:00:00+00:00, Equity(410 [AN])), (2018-05-07 00:00:00+00:00, Equity(412 [ANAT])), (2018-05-07 00:00:00+00:00, Equity(438 [AON])), (2018-05-07 00:00:00+00:00, Equity(447 [AP])), (2018-05-07 00:00:00+00:00, Equity(448 [APA])), (2018-05-07 00:00:00+00:00, Equity(450 [CLFD])), (2018-05-07 00:00:00+00:00, Equity(451 [APB])), (2018-05-07 00:00:00+00:00, Equity(455 [APC])), (2018-05-07 00:00:00+00:00, Equity(460 [APD])), (2018-05-07 00:00:00+00:00, Equity(465 [APH])), (2018-05-07 00:00:00+00:00, Equity(474 [APOG])), (2018-05-07 00:00:00+00:00, Equity(484 [EPAC])), (2018-05-07 00:00:00+00:00, Equity(523 [AAN])), (2018-05-07 00:00:00+00:00, Equity(526 [AROW])), (2018-05-07 00:00:00+00:00, Equity(535 [ARTW])), (2018-05-07 00:00:00+00:00, Equity(538 [ARW])), (2018-05-07 00:00:00+00:00, Equity(542 [ASA])), (2018-05-07 00:00:00+00:00, Equity(547 [ASB])), (2018-05-07 00:00:00+00:00, Equity(557 [ASGN])), (2018-05-07 00:00:00+00:00, Equity(559 [ASH])), (2018-05-07 00:00:00+00:00, Equity(576 [ASR])), (2018-05-07 00:00:00+00:00, Equity(579 [ASTE])), (2018-05-07 00:00:00+00:00, Equity(600 [OA])), (2018-05-07 00:00:00+00:00, Equity(610 [ATNI])), (2018-05-07 00:00:00+00:00, Equity(612 [ATO])), (2018-05-07 00:00:00+00:00, Equity(617 [ATRO])), (2018-05-07 00:00:00+00:00, Equity(629 [AU])), (2018-05-07 00:00:00+00:00, Equity(630 [ADP])), (2018-05-07 00:00:00+00:00, Equity(659 [AMAG])), (2018-05-07 00:00:00+00:00, Equity(660 [AVP])), (2018-05-07 00:00:00+00:00, Equity(661 [AVT])), (2018-05-07 00:00:00+00:00, Equity(662 [AVHI])), (2018-05-07 00:00:00+00:00, Equity(663 [AVY])), (2018-05-07 00:00:00+00:00, Equity(677 [AXAS])), (2018-05-07 00:00:00+00:00, Equity(679 [AXP])), (2018-05-07 00:00:00+00:00, Equity(680 [AXR])), (2018-05-07 00:00:00+00:00, Equity(693 [AZO])), (2018-05-07 00:00:00+00:00, Equity(694 [AZZ])), (2018-05-07 00:00:00+00:00, Equity(697 [B])), (2018-05-07 00:00:00+00:00, Equity(698 [BA])), (2018-05-07 00:00:00+00:00, Equity(700 [BAC])), (2018-05-07 00:00:00+00:00, Equity(734 [BAX])), ...]\n",
       "\n",
       "[8568 rows x 0 columns]"
      ]
     },
     "execution_count": 6,
     "metadata": {},
     "output_type": "execute_result"
    }
   ],
   "source": [
    "result"
   ]
  },
  {
   "cell_type": "markdown",
   "metadata": {},
   "source": [
    "The output of an empty pipeline is a DataFrame with no columns. In this example, our pipeline has an index made up of all 8000+ securities (truncated in the display) for May 5th, 2018, but doesn't have any columns.\n",
    "\n",
    "In the following lessons, we'll take a look at how to add columns to our pipeline output, and how to filter down to a subset of securities."
   ]
  }
 ],
 "metadata": {
  "kernelspec": {
   "display_name": "Python 3.5",
   "language": "python",
   "name": "py35"
  },
  "language_info": {
   "codemirror_mode": {
    "name": "ipython",
    "version": 3
   },
   "file_extension": ".py",
   "mimetype": "text/x-python",
   "name": "python",
   "nbconvert_exporter": "python",
   "pygments_lexer": "ipython3",
   "version": "3.5.9"
  }
 },
 "nbformat": 4,
 "nbformat_minor": 1
}